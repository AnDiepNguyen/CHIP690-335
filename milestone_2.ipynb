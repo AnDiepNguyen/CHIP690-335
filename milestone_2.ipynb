{
 "cells": [
  {
   "cell_type": "markdown",
   "id": "243de294",
   "metadata": {},
   "source": [
    "Import modules and create dataframes from each sheet from Excel file. "
   ]
  },
  {
   "cell_type": "code",
   "execution_count": null,
   "id": "b61668cf",
   "metadata": {},
   "outputs": [],
   "source": [
    "import numpy as np\n",
    "import pandas as pd\n",
    "import matplotlib.pyplot as plt\n",
    "\n",
    "murdock_heartfailure = pd.read_excel(\"Murdock_HeartFailure.xlsx\",sheet_name=None, engine=\"openpyxl\")\n",
    "participants = murdock_heartfailure[\"Participants\"]\n",
    "labs = murdock_heartfailure[\"Labs\"]\n",
    "vitals = murdock_heartfailure[\"Vitals\"]\n",
    "followup = murdock_heartfailure[\"FollowUp\"]\n",
    "questionnaire = murdock_heartfailure[\"Questionnaire\"]\n",
    "problemlist = murdock_heartfailure[\"ProblemList\"]"
   ]
  },
  {
   "cell_type": "markdown",
   "id": "19b925d4",
   "metadata": {},
   "source": [
    "The table below displays the demographic breakdown by sex, age, and race for each cohort."
   ]
  },
  {
   "cell_type": "code",
   "execution_count": null,
   "id": "23a06eb1",
   "metadata": {},
   "outputs": [],
   "source": [
    "sex_summary = participants.groupby(\"Cohort\")[\"Sex\"].value_counts().unstack()\n",
    "age_summary = participants.groupby(\"Cohort\")[\"Age\"].describe().unstack()\n",
    "\n",
    "race_columns = [\"White\", \"Black\", \"Asian\", \"AmericanIndian\", \"PacificIslander\", \"Other\"]\n",
    "participants[\"race_count\"] = participants[race_columns].notna().sum(axis=1)\n",
    "#function to assign participant to a \"Mixed\" group if race_count is >1\n",
    "def assign_race(row):\n",
    "    if row[\"race_count\"]> 1:\n",
    "        return \"Mixed\"\n",
    "    for race in race_columns:\n",
    "        if pd.notna(row[race]):\n",
    "            return race\n",
    "    return \"Unknown\"\n",
    "#create a column that assigns a race group to each row\n",
    "participants[\"race_group\"]= participants.apply(assign_race, axis=1)\n",
    "race_summary= participants.groupby(\"Cohort\")[\"race_group\"].value_counts().unstack()\n",
    "\n",
    "mean_age = age_summary[\"mean\"]\n",
    "\n",
    "summary_table =  pd.concat([sex_summary, age_summary[\"mean\"].rename(\"Mean Age\"), race_summary], axis=1)\n",
    "print(summary_table)"
   ]
  },
  {
   "cell_type": "markdown",
   "id": "e9413911",
   "metadata": {},
   "source": [
    "The table below displays descriptive statistics for age, weight, height, heart rate, systolic and diastolic blood pressure by cohort. Cohort A had no heart failure at serum collection or during follow-up; Cohort B developed heart failure after collection."
   ]
  },
  {
   "cell_type": "code",
   "execution_count": null,
   "id": "f0c76e38",
   "metadata": {},
   "outputs": [],
   "source": [
    "age_summary = participants.groupby(\"Cohort\")[\"Age\"].describe().unstack()\n",
    "vitals = vitals.merge(participants[[\"ParticipantID\",\"Cohort\"]], on=\"ParticipantID\", how=\"left\")\n",
    "weight_summary = vitals.groupby(\"Cohort\")[\"Wt_lbs\"].describe().unstack()\n",
    "height_summary = vitals.groupby(\"Cohort\")[\"Ht_inches\"].describe().unstack()\n",
    "hr_summary = vitals.groupby(\"Cohort\")[\"HeartRate\"].describe().unstack()\n",
    "bp_systolic = vitals.groupby(\"Cohort\")[\"SystolicBP\"].describe().unstack()\n",
    "bp_diastolic = vitals.groupby(\"Cohort\")[\"DiastolicBP\"].describe().unstack()\n",
    "\n",
    "participant_descriptive_summary = pd.concat([age_summary, weight_summary, height_summary, hr_summary, bp_systolic, bp_diastolic], axis=1, keys=[\"Age\",\n",
    "    \"Weight\", \"Height\", \"Heart rate\", \"Systolic bp\", \"Diastolic bp\"])\n",
    "print(participant_descriptive_summary)\n"
   ]
  },
  {
   "cell_type": "markdown",
   "id": "5d96a0f2",
   "metadata": {},
   "source": [
    "NTproBNP is the current standard biomarker for ruling in or ruling out heart failure. A cutoff value of >300 used here is the general cutoff value; however, some guidelines suggest using age-related cutoff values. The boxplot displays the distribution of NTproBNP values > 300 between Cohort A and Cohort B. The distribution of values appear comparable between the two cohorts."
   ]
  },
  {
   "cell_type": "code",
   "execution_count": null,
   "id": "9a5d7302",
   "metadata": {},
   "outputs": [],
   "source": [
    "NTproBNP = labs[(labs[\"Measure\"] == \"NTproBNP\") & (labs[\"LabValue\"] > 300)].copy()\n",
    "\n",
    "#Create boxplot\n",
    "fig, ax= plt.subplots(figsize= (6,4))\n",
    "\n",
    "#Group and plot values\n",
    "NTproBNP.boxplot(column= \"LabValue\", by= \"Cohort\", ax=ax, showfliers=False)\n",
    "\n",
    "#Format the plot\n",
    "ax.set_xlabel(\"Participant groups\")\n",
    "ax.set_ylabel(\"NTproBNP lab values\")\n",
    "ax.set_title(\" \")\n",
    "fig.suptitle(\"NTproBNP: Cohort A vs. Cohort B\")\n",
    "ax.grid(False)\n",
    "plt.tight_layout()\n"
   ]
  },
  {
   "cell_type": "markdown",
   "id": "4236e012",
   "metadata": {},
   "source": [
    "The boxplot below shows the distribution of PNC values for Cohort A and Cohort B. Participants in Cohort A (no heart failure) tend to have lower PNC levels compared to those in Cohort B."
   ]
  },
  {
   "cell_type": "code",
   "execution_count": null,
   "id": "76526562",
   "metadata": {},
   "outputs": [],
   "source": [
    "\n",
    "pnc= labs[(labs[\"Measure\"]== \"PNC\")].copy()\n",
    "\n",
    "#create a boxplot\n",
    "fig, ax= plt.subplots(figsize= (6,4))\n",
    "\n",
    "#group and plot values\n",
    "pnc.boxplot(column= \"LabValue\", by= \"Cohort\", ax=ax, showfliers= False)\n",
    "\n",
    "#format the plot\n",
    "ax.set_xlabel(\"Participant groups\")\n",
    "ax.set_ylabel(\"PNC lab values\")\n",
    "ax.set_title(\" \")\n",
    "fig.suptitle(\"PNC values: Cohort A vs. Cohort B\")\n",
    "ax.grid(False)\n",
    "plt.tight_layout()"
   ]
  },
  {
   "cell_type": "markdown",
   "id": "d2c6ffe0",
   "metadata": {},
   "source": [
    "The boxplot below shows the distribution of PNC values among participants with and without a diagnosis of coronary artery disease (a risk factor for heart failure), regardless of cohort assignment. Participants with coronary artery disease tend to exhibit lower PNC levels."
   ]
  },
  {
   "cell_type": "code",
   "execution_count": null,
   "id": "54b64473",
   "metadata": {},
   "outputs": [],
   "source": [
    "#create values and labels\n",
    "cad_participant_id = problemlist.loc[problemlist[\"Diagnoses\"].str.lower()== \"coronary artery disease\",\"ParticipantID\"].unique()\n",
    "pnc= labs[(labs[\"Measure\"]== \"PNC\")].copy()\n",
    "pnc[\"has_cad\"]= pnc[\"ParticipantID\"].isin(cad_participant_id).map({False: \"no coronary artery disease\", True: \"coronary artery disease\"})\n",
    "\n",
    "#create boxplot grouped by CAD status\n",
    "fig, ax= plt.subplots(figsize=(6,4))\n",
    "\n",
    "#group and plot\n",
    "pnc.boxplot(column=\"LabValue\", by= \"has_cad\",ax=ax, showfliers= False)\n",
    "\n",
    "#format the plot\n",
    "ax.set_xlabel(\"Paticipant groups\")\n",
    "ax.set_ylabel(\"PNC lab values\")\n",
    "ax.grid(False)\n",
    "ax.set_title(\" \")\n",
    "fig.suptitle(\"PNC lab values: Non-CAD vs. CAD Participants\")\n",
    "plt.tight_layout()"
   ]
  },
  {
   "cell_type": "markdown",
   "id": "82535120",
   "metadata": {},
   "source": [
    "Heart attack is another risk factor for heart failure. The boxplot below shows the distribution of PNC values among participants with and without a history of heart attack, regardless of cohort. Those with a history of heart attack tend to have higher PNC levels."
   ]
  },
  {
   "cell_type": "code",
   "execution_count": null,
   "id": "4c81388a",
   "metadata": {},
   "outputs": [],
   "source": [
    "heart_attack_participant = problemlist.loc[problemlist[\"Diagnoses\"].str.lower()==\"heart attack\", \"ParticipantID\"].unique()\n",
    "pnc = labs[(labs[\"Measure\"]==\"PNC\")].copy()\n",
    "pnc[\"had_heart_attack\"] = pnc[\"ParticipantID\"].isin(heart_attack_participant).map({False:\"no heart attack\", True:\"heart attack\"})\n",
    "\n",
    "#create boxplot grouped by heart attack status\n",
    "fig, ax= plt.subplots(figsize=(6,4))\n",
    "\n",
    "#group and plot\n",
    "pnc.boxplot(column=\"LabValue\", by= \"had_heart_attack\", ax=ax, showfliers= False)\n",
    "\n",
    "#format the boxplot\n",
    "ax.set_xlabel(\"Participant groups\")\n",
    "ax.set_ylabel(\"PNC lab values\")\n",
    "ax.set_title(\" \")\n",
    "ax.grid(False)\n",
    "fig.suptitle(\"PNC values: heart attack vs no heart attack\")\n",
    "plt.tight_layout()"
   ]
  },
  {
   "cell_type": "markdown",
   "id": "96237af6",
   "metadata": {},
   "source": [
    "Lastly, the boxplot below compares the distribution of PNC values between participants with and without high blood pressure. The overall spread indicates that individuals with high blood pressure generally exhibit higher PNC levels."
   ]
  },
  {
   "cell_type": "code",
   "execution_count": null,
   "id": "3c439262",
   "metadata": {},
   "outputs": [],
   "source": [
    "participants_htn = problemlist.loc[problemlist[\"Diagnoses\"].str.lower()== \"high blood pressure\", \"ParticipantID\"].unique()\n",
    "pnc = labs[(labs[\"Measure\"]== \"PNC\")].copy()\n",
    "pnc[\"high blood pressure\"] = pnc[\"ParticipantID\"].isin(participants_htn).map({False: \"no high blood pressure\", True:\"high blood pressure\"})\n",
    "\n",
    "#create boxplot\n",
    "fig, ax= plt.subplots(figsize=(6,4))\n",
    "\n",
    "#group and plot values\n",
    "pnc.boxplot(column=\"LabValue\", by=\"high blood pressure\", ax=ax, showfliers= False)\n",
    "\n",
    "#format boxplot\n",
    "ax.set_ylabel(\"PNC lab values\")\n",
    "ax.set_xlabel(\"Participant groups\")\n",
    "ax.set_title(\" \")\n",
    "fig.suptitle(\"PNC value: HTN vs. no HTN\")\n",
    "ax.grid(False)\n",
    "plt.tight_layout()"
   ]
  },
  {
   "cell_type": "code",
   "execution_count": null,
   "id": "f445e00d",
   "metadata": {},
   "outputs": [],
   "source": []
  }
 ],
 "metadata": {
  "kernelspec": {
   "display_name": "Python 3 (ipykernel)",
   "language": "python",
   "name": "python3"
  },
  "language_info": {
   "codemirror_mode": {
    "name": "ipython",
    "version": 3
   },
   "file_extension": ".py",
   "mimetype": "text/x-python",
   "name": "python",
   "nbconvert_exporter": "python",
   "pygments_lexer": "ipython3",
   "version": "3.13.1"
  }
 },
 "nbformat": 4,
 "nbformat_minor": 5
}
